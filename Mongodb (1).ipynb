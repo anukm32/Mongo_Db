{
 "cells": [
  {
   "cell_type": "code",
   "execution_count": 3,
   "id": "09e143bf",
   "metadata": {},
   "outputs": [],
   "source": [
    "import pymongo"
   ]
  },
  {
   "cell_type": "code",
   "execution_count": 4,
   "id": "0c40997d",
   "metadata": {},
   "outputs": [],
   "source": [
    "#create connection\n",
    "client=pymongo.MongoClient('mongodb://127.0.0.1:27017/')\n"
   ]
  },
  {
   "cell_type": "code",
   "execution_count": 6,
   "id": "2b5cfc1d",
   "metadata": {},
   "outputs": [],
   "source": [
    "#create Db\n",
    "mydb=client['Employee']"
   ]
  },
  {
   "cell_type": "code",
   "execution_count": 7,
   "id": "f2d79e73",
   "metadata": {},
   "outputs": [],
   "source": [
    "#table\n",
    "information=mydb.employeeinformation"
   ]
  },
  {
   "cell_type": "code",
   "execution_count": 14,
   "id": "69ccc768",
   "metadata": {},
   "outputs": [],
   "source": [
    "#create json document\n",
    "record=[ \n",
    "        {\n",
    "        'firstname':\"Aadav\",\n",
    "        'lastname':\"KA\",\n",
    "        'department':'Analyst1'\n",
    "        \n",
    "        },\n",
    "        {\n",
    "        'firstname':\"Aavani\",\n",
    "        'lastname':\"KA\",\n",
    "        'department':'Analyst2'\n",
    "        \n",
    "        },\n",
    "        {\n",
    "        'firstname':\"Arun\",\n",
    "        'lastname':\"Lal\",\n",
    "        'department':'Analyst3'\n",
    "        \n",
    "        }\n",
    "        ]"
   ]
  },
  {
   "cell_type": "code",
   "execution_count": 15,
   "id": "4a19203c",
   "metadata": {},
   "outputs": [
    {
     "data": {
      "text/plain": [
       "<pymongo.results.InsertManyResult at 0x25ca98a68c0>"
      ]
     },
     "execution_count": 15,
     "metadata": {},
     "output_type": "execute_result"
    }
   ],
   "source": [
    "information.insert_many(record)"
   ]
  },
  {
   "cell_type": "code",
   "execution_count": 8,
   "id": "43750584",
   "metadata": {},
   "outputs": [
    {
     "data": {
      "text/plain": [
       "{'_id': ObjectId('6127f57f2d91b82b36039672'),\n",
       " 'firstname': 'Aadav',\n",
       " 'lastname': 'KA',\n",
       " 'department': 'Analyst1'}"
      ]
     },
     "execution_count": 8,
     "metadata": {},
     "output_type": "execute_result"
    }
   ],
   "source": [
    "##get single document frm the database\n",
    "information.find_one()"
   ]
  },
  {
   "cell_type": "code",
   "execution_count": 9,
   "id": "9dde8e0a",
   "metadata": {},
   "outputs": [
    {
     "data": {
      "text/plain": [
       "<pymongo.cursor.Cursor at 0x1399f53e3a0>"
      ]
     },
     "execution_count": 9,
     "metadata": {},
     "output_type": "execute_result"
    }
   ],
   "source": [
    "#select * from information\n",
    "information.find()"
   ]
  },
  {
   "cell_type": "code",
   "execution_count": 10,
   "id": "93fd5534",
   "metadata": {},
   "outputs": [
    {
     "name": "stdout",
     "output_type": "stream",
     "text": [
      "{'_id': ObjectId('6127f57f2d91b82b36039672'), 'firstname': 'Aadav', 'lastname': 'KA', 'department': 'Analyst1'}\n",
      "{'_id': ObjectId('6127f57f2d91b82b36039673'), 'firstname': 'Aavani', 'lastname': 'KA', 'department': 'Analyst2'}\n",
      "{'_id': ObjectId('6127f57f2d91b82b36039674'), 'firstname': 'Arun', 'lastname': 'Lal', 'department': 'Analyst3'}\n"
     ]
    }
   ],
   "source": [
    "for record in information.find():\n",
    "    print(record)"
   ]
  },
  {
   "cell_type": "code",
   "execution_count": 12,
   "id": "6556b97e",
   "metadata": {},
   "outputs": [
    {
     "name": "stdout",
     "output_type": "stream",
     "text": [
      "{'_id': ObjectId('6127f57f2d91b82b36039672'), 'firstname': 'Aadav', 'lastname': 'KA', 'department': 'Analyst1'}\n",
      "{'_id': ObjectId('6127f57f2d91b82b36039673'), 'firstname': 'Aavani', 'lastname': 'KA', 'department': 'Analyst2'}\n",
      "{'_id': ObjectId('6127f57f2d91b82b36039674'), 'firstname': 'Arun', 'lastname': 'Lal', 'department': 'Analyst3'}\n"
     ]
    }
   ],
   "source": [
    "for record in information.find({}):\n",
    "       print(record)"
   ]
  },
  {
   "cell_type": "code",
   "execution_count": 13,
   "id": "ebb05f62",
   "metadata": {},
   "outputs": [
    {
     "name": "stdout",
     "output_type": "stream",
     "text": [
      "{'_id': ObjectId('6127f57f2d91b82b36039673'), 'firstname': 'Aavani', 'lastname': 'KA', 'department': 'Analyst2'}\n"
     ]
    }
   ],
   "source": [
    "#select * from information where firstname='Aavani'\n",
    "for record in information.find({'firstname':'Aavani'}):\n",
    "    print(record)"
   ]
  },
  {
   "cell_type": "code",
   "execution_count": 14,
   "id": "b2fbd9ed",
   "metadata": {},
   "outputs": [
    {
     "name": "stderr",
     "output_type": "stream",
     "text": [
      "<ipython-input-14-528145b4969c>:1: DeprecationWarning: database_names is deprecated. Use list_database_names instead.\n",
      "  client.database_names()\n"
     ]
    },
    {
     "data": {
      "text/plain": [
       "['Employee', 'admin', 'config', 'local']"
      ]
     },
     "execution_count": 14,
     "metadata": {},
     "output_type": "execute_result"
    }
   ],
   "source": [
    "client.database_names() "
   ]
  },
  {
   "cell_type": "code",
   "execution_count": null,
   "id": "f5897cd9",
   "metadata": {},
   "outputs": [],
   "source": [
    "# or ,in ,and,lt operations"
   ]
  },
  {
   "cell_type": "code",
   "execution_count": 16,
   "id": "634c57c7",
   "metadata": {},
   "outputs": [
    {
     "name": "stdout",
     "output_type": "stream",
     "text": [
      "{'_id': ObjectId('6127f57f2d91b82b36039673'), 'firstname': 'Aavani', 'lastname': 'KA', 'department': 'Analyst2'}\n",
      "{'_id': ObjectId('6127f57f2d91b82b36039674'), 'firstname': 'Arun', 'lastname': 'Lal', 'department': 'Analyst3'}\n"
     ]
    }
   ],
   "source": [
    "# in and simple query\n",
    "for record in information.find({'department':{'$in':[ 'Analyst2','Analyst3']}}):\n",
    "    print(record)"
   ]
  },
  {
   "cell_type": "code",
   "execution_count": 17,
   "id": "710d89e3",
   "metadata": {},
   "outputs": [],
   "source": [
    "record={\n",
    "   'firstname': 'Aavani1', \n",
    "    'lastname': 'KA1', \n",
    "    'department': 'Analyst4',\n",
    "    'age':23\n",
    "    \n",
    "}"
   ]
  },
  {
   "cell_type": "code",
   "execution_count": 18,
   "id": "3eb5d0eb",
   "metadata": {},
   "outputs": [
    {
     "data": {
      "text/plain": [
       "<pymongo.results.InsertOneResult at 0x1399eec1a00>"
      ]
     },
     "execution_count": 18,
     "metadata": {},
     "output_type": "execute_result"
    }
   ],
   "source": [
    "information.insert_one(record)"
   ]
  },
  {
   "cell_type": "code",
   "execution_count": 20,
   "id": "0244746b",
   "metadata": {},
   "outputs": [
    {
     "name": "stdout",
     "output_type": "stream",
     "text": [
      "{'_id': ObjectId('6127f57f2d91b82b36039672'), 'firstname': 'Aadav', 'lastname': 'KA', 'department': 'Analyst1'}\n",
      "{'_id': ObjectId('6127f57f2d91b82b36039673'), 'firstname': 'Aavani', 'lastname': 'KA', 'department': 'Analyst2'}\n",
      "{'_id': ObjectId('6127f57f2d91b82b36039674'), 'firstname': 'Arun', 'lastname': 'Lal', 'department': 'Analyst3'}\n",
      "{'_id': ObjectId('6128c897deb9fb492ead41e6'), 'firstname': 'Aavani1', 'lastname': 'KA1', 'department': 'Analyst4', 'age': 23}\n"
     ]
    }
   ],
   "source": [
    "for record in information.find({}):\n",
    "    print(record)\n",
    "    "
   ]
  },
  {
   "cell_type": "code",
   "execution_count": 21,
   "id": "dcc3575b",
   "metadata": {},
   "outputs": [
    {
     "name": "stdout",
     "output_type": "stream",
     "text": [
      "{'_id': ObjectId('6128c897deb9fb492ead41e6'), 'firstname': 'Aavani1', 'lastname': 'KA1', 'department': 'Analyst4', 'age': 23}\n"
     ]
    }
   ],
   "source": [
    "# lessthsan lt operation\n",
    "for record in information.find({'age':{'$lt':32}}):\n",
    "    print(record)"
   ]
  },
  {
   "cell_type": "code",
   "execution_count": 22,
   "id": "837972b1",
   "metadata": {},
   "outputs": [
    {
     "name": "stdout",
     "output_type": "stream",
     "text": [
      "{'_id': ObjectId('6127f57f2d91b82b36039672'), 'firstname': 'Aadav', 'lastname': 'KA', 'department': 'Analyst1'}\n",
      "{'_id': ObjectId('6127f57f2d91b82b36039674'), 'firstname': 'Arun', 'lastname': 'Lal', 'department': 'Analyst3'}\n"
     ]
    }
   ],
   "source": [
    "# or operation\n",
    "for record in information.find({'$or':[{'firstname':'Aadav'},{'department': 'Analyst3'}]}):\n",
    "    print(record)"
   ]
  },
  {
   "cell_type": "code",
   "execution_count": 24,
   "id": "ddf57352",
   "metadata": {},
   "outputs": [],
   "source": [
    "# and operation\n",
    "for record in information.find({'$and':[{'firstname':'Aadav'},{'department': 'Analyst3'}]}):\n",
    "    print(record)"
   ]
  },
  {
   "cell_type": "code",
   "execution_count": 25,
   "id": "28f66b1a",
   "metadata": {},
   "outputs": [
    {
     "data": {
      "text/plain": [
       "<pymongo.results.UpdateResult at 0x1399f633c80>"
      ]
     },
     "execution_count": 25,
     "metadata": {},
     "output_type": "execute_result"
    }
   ],
   "source": [
    "#update existing data\n",
    "information.update_one({'firstname': 'Aadav'},{'$set':{'height':'190cm',\"status\":\"P\"},\"$currentDate\":{\"lastModified\":True}})"
   ]
  },
  {
   "cell_type": "code",
   "execution_count": 26,
   "id": "8cecd53b",
   "metadata": {},
   "outputs": [
    {
     "name": "stdout",
     "output_type": "stream",
     "text": [
      "{'_id': ObjectId('6127f57f2d91b82b36039672'), 'firstname': 'Aadav', 'lastname': 'KA', 'department': 'Analyst1', 'height': '190cm', 'lastModified': datetime.datetime(2021, 8, 27, 13, 0, 57, 523000), 'status': 'P'}\n",
      "{'_id': ObjectId('6127f57f2d91b82b36039673'), 'firstname': 'Aavani', 'lastname': 'KA', 'department': 'Analyst2'}\n",
      "{'_id': ObjectId('6127f57f2d91b82b36039674'), 'firstname': 'Arun', 'lastname': 'Lal', 'department': 'Analyst3'}\n",
      "{'_id': ObjectId('6128c897deb9fb492ead41e6'), 'firstname': 'Aavani1', 'lastname': 'KA1', 'department': 'Analyst4', 'age': 23}\n"
     ]
    }
   ],
   "source": [
    "#update many \n",
    "for record in information.find({}):\n",
    "    print(record)"
   ]
  },
  {
   "cell_type": "code",
   "execution_count": 27,
   "id": "374b8b0e",
   "metadata": {},
   "outputs": [
    {
     "data": {
      "text/plain": [
       "<pymongo.results.UpdateResult at 0x1399f91e680>"
      ]
     },
     "execution_count": 27,
     "metadata": {},
     "output_type": "execute_result"
    }
   ],
   "source": [
    "information.update_many({'age':{'$lt':32}},{'$set':{'height':'190cm',\"status\":\"P\"},\"$currentDate\":{\"lastModified\":True}})"
   ]
  },
  {
   "cell_type": "code",
   "execution_count": null,
   "id": "aace5525",
   "metadata": {},
   "outputs": [],
   "source": []
  }
 ],
 "metadata": {
  "kernelspec": {
   "display_name": "Python 3",
   "language": "python",
   "name": "python3"
  },
  "language_info": {
   "codemirror_mode": {
    "name": "ipython",
    "version": 3
   },
   "file_extension": ".py",
   "mimetype": "text/x-python",
   "name": "python",
   "nbconvert_exporter": "python",
   "pygments_lexer": "ipython3",
   "version": "3.8.8"
  }
 },
 "nbformat": 4,
 "nbformat_minor": 5
}
