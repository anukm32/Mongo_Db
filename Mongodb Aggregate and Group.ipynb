{
 "cells": [
  {
   "cell_type": "code",
   "execution_count": 1,
   "id": "29391667",
   "metadata": {},
   "outputs": [],
   "source": [
    "import pymongo"
   ]
  },
  {
   "cell_type": "code",
   "execution_count": 2,
   "id": "7173d9a3",
   "metadata": {},
   "outputs": [],
   "source": [
    "client=pymongo.MongoClient('mongodb://localhost:27017/')"
   ]
  },
  {
   "cell_type": "code",
   "execution_count": 3,
   "id": "fe42d54e",
   "metadata": {},
   "outputs": [],
   "source": [
    "mydb=client['Student1']"
   ]
  },
  {
   "cell_type": "code",
   "execution_count": 5,
   "id": "e5875a41",
   "metadata": {},
   "outputs": [],
   "source": [
    "student_details=mydb.student_details"
   ]
  },
  {
   "cell_type": "code",
   "execution_count": 4,
   "id": "8715bfc6",
   "metadata": {},
   "outputs": [],
   "source": [
    "record=[ \n",
    "    {\"user\":\"Aavani\", \"subject\":\"Database\", \"score\":80}, \n",
    "    {\"user\":\"Aavani\",  \"subject\":\"JavaScript\", \"score\":90}, \n",
    "    {\"user\":\"Aadav\",  \"title\":\"Database\", \"score\":85}, \n",
    "    {\"user\":\"Aadav\",  \"title\":\"JavaScript\", \"score\":75}, \n",
    "    {\"user\":\"Aavani\",  \"title\":\"Data Science\", \"score\":60},\n",
    "    {\"user\":\"Arun\",  \"title\":\"Data Science\", \"score\":95}\n",
    "] \n",
    "  "
   ]
  },
  {
   "cell_type": "code",
   "execution_count": 7,
   "id": "3d8c8b29",
   "metadata": {},
   "outputs": [
    {
     "data": {
      "text/plain": [
       "<pymongo.results.InsertManyResult at 0x26d6b71fbc0>"
      ]
     },
     "execution_count": 7,
     "metadata": {},
     "output_type": "execute_result"
    }
   ],
   "source": [
    "student_details.insert_many(record)"
   ]
  },
  {
   "cell_type": "code",
   "execution_count": 9,
   "id": "bec64736",
   "metadata": {},
   "outputs": [
    {
     "name": "stdout",
     "output_type": "stream",
     "text": [
      "{'_id': ObjectId('6129104ce181ae8384eb162a'), 'user': 'Aavani', 'subject': 'Database', 'score': 80}\n",
      "{'_id': ObjectId('6129104ce181ae8384eb162b'), 'user': 'Aavani', 'subject': 'JavaScript', 'score': 90}\n",
      "{'_id': ObjectId('6129104ce181ae8384eb162c'), 'user': 'Aadav', 'title': 'Database', 'score': 85}\n",
      "{'_id': ObjectId('6129104ce181ae8384eb162d'), 'user': 'Aadav', 'title': 'JavaScript', 'score': 75}\n",
      "{'_id': ObjectId('6129104ce181ae8384eb162e'), 'user': 'Aavani', 'title': 'Data Science', 'score': 60}\n",
      "{'_id': ObjectId('6129104ce181ae8384eb162f'), 'user': 'Arun', 'title': 'Data Science', 'score': 95}\n",
      "{'_id': ObjectId('612deb8c9c6c57e362b3ac62'), 'user': 'Aavani', 'subject': 'Database', 'score': 80}\n",
      "{'_id': ObjectId('612deb8c9c6c57e362b3ac63'), 'user': 'Aavani', 'subject': 'JavaScript', 'score': 90}\n",
      "{'_id': ObjectId('612deb8c9c6c57e362b3ac64'), 'user': 'Aadav', 'title': 'Database', 'score': 85}\n",
      "{'_id': ObjectId('612deb8c9c6c57e362b3ac65'), 'user': 'Aadav', 'title': 'JavaScript', 'score': 75}\n",
      "{'_id': ObjectId('612deb8c9c6c57e362b3ac66'), 'user': 'Aavani', 'title': 'Data Science', 'score': 60}\n",
      "{'_id': ObjectId('612deb8c9c6c57e362b3ac67'), 'user': 'Arun', 'title': 'Data Science', 'score': 95}\n"
     ]
    }
   ],
   "source": [
    " for record in student_details.find():\n",
    "        print(record)"
   ]
  },
  {
   "cell_type": "code",
   "execution_count": null,
   "id": "d84cd18f",
   "metadata": {},
   "outputs": [],
   "source": [
    "##sum ##avg ##projcect"
   ]
  },
  {
   "cell_type": "code",
   "execution_count": 11,
   "id": "f774dcbc",
   "metadata": {},
   "outputs": [
    {
     "name": "stdout",
     "output_type": "stream",
     "text": [
      "{'_id': 'Aavani', 'Total subject': 6}\n",
      "{'_id': 'Aadav', 'Total subject': 4}\n",
      "{'_id': 'Arun', 'Total subject': 2}\n"
     ]
    }
   ],
   "source": [
    "#find the total subject of 2 student based on user\n",
    "agg_result=student_details.aggregate([{\"$group\":{\"_id\":\"$user\",\"Total subject\":{\"$sum\":1}}\n",
    "                                     }])\n",
    "for i in agg_result:\n",
    "    print(i)"
   ]
  },
  {
   "cell_type": "code",
   "execution_count": 12,
   "id": "dbd6c980",
   "metadata": {},
   "outputs": [
    {
     "name": "stdout",
     "output_type": "stream",
     "text": [
      "{'_id': 'Aavani', 'Total_mark': 460}\n",
      "{'_id': 'Aadav', 'Total_mark': 320}\n",
      "{'_id': 'Arun', 'Total_mark': 190}\n"
     ]
    }
   ],
   "source": [
    "# find the total score based on user\n",
    "agg_result=student_details.aggregate([{\"$group\":{\"_id\":\"$user\",\"Total_mark\":{\"$sum\":\"$score\"}}}])\n",
    "for i in agg_result:\n",
    "    print(i)"
   ]
  },
  {
   "cell_type": "code",
   "execution_count": 13,
   "id": "ee241238",
   "metadata": {},
   "outputs": [],
   "source": [
    "import datetime as datetime"
   ]
  },
  {
   "cell_type": "code",
   "execution_count": 14,
   "id": "5a5fe816",
   "metadata": {},
   "outputs": [],
   "source": [
    "new_data=[{ \"_id\" : 1, \"item\" : \"abc\", \"price\" : 10, \"quantity\" : 2, \"date\" : datetime.datetime.utcnow()},\n",
    "{ \"_id\" : 2, \"item\" : \"jkl\", \"price\" : 20, \"quantity\" : 1, \"date\" : datetime.datetime.utcnow() },\n",
    "{ \"_id\" : 3, \"item\" : \"xyz\", \"price\" : 5, \"quantity\" : 5, \"date\" : datetime.datetime.utcnow() },\n",
    "{ \"_id\" : 4, \"item\" : \"abc\", \"price\" : 10, \"quantity\" : 10, \"date\" : datetime.datetime.utcnow() },\n",
    "{ \"_id\" : 5, \"item\" : \"xyz\", \"price\" : 5, \"quantity\" : 10, \"date\" :datetime.datetime.utcnow() }]"
   ]
  },
  {
   "cell_type": "code",
   "execution_count": 16,
   "id": "e38c737d",
   "metadata": {},
   "outputs": [
    {
     "data": {
      "text/plain": [
       "<pymongo.results.InsertManyResult at 0x26d6b721f80>"
      ]
     },
     "execution_count": 16,
     "metadata": {},
     "output_type": "execute_result"
    }
   ],
   "source": [
    "\n",
    "mycollection=mydb['stores']  \n",
    "mycollection.insert_many(new_data)\n"
   ]
  },
  {
   "cell_type": "code",
   "execution_count": 17,
   "id": "e06634a4",
   "metadata": {},
   "outputs": [
    {
     "name": "stdout",
     "output_type": "stream",
     "text": [
      "{'_id': 'abc', 'Avg_Amount': 60.0, 'avgQuantity': 6.0}\n",
      "{'_id': 'xyz', 'Avg_Amount': 37.5, 'avgQuantity': 7.5}\n",
      "{'_id': 'jkl', 'Avg_Amount': 20.0, 'avgQuantity': 1.0}\n"
     ]
    }
   ],
   "source": [
    "#calculate the avg quantuity and avg price\n",
    "agg_result=mycollection.aggregate([{\"$group\":{\"_id\":\"$item\",\"Avg_Amount\":{\"$avg\":{\"$multiply\":[\"$price\", \"$quantity\" ]}},\n",
    "                                             \"avgQuantity\": { \"$avg\": \"$quantity\" }}}])\n",
    "for i in  agg_result:\n",
    "    print(i)"
   ]
  },
  {
   "cell_type": "code",
   "execution_count": null,
   "id": "dbc68a29",
   "metadata": {},
   "outputs": [],
   "source": []
  }
 ],
 "metadata": {
  "kernelspec": {
   "display_name": "Python 3",
   "language": "python",
   "name": "python3"
  },
  "language_info": {
   "codemirror_mode": {
    "name": "ipython",
    "version": 3
   },
   "file_extension": ".py",
   "mimetype": "text/x-python",
   "name": "python",
   "nbconvert_exporter": "python",
   "pygments_lexer": "ipython3",
   "version": "3.8.8"
  }
 },
 "nbformat": 4,
 "nbformat_minor": 5
}
